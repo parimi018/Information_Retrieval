{
 "cells": [
  {
   "cell_type": "code",
   "execution_count": 1,
   "metadata": {},
   "outputs": [],
   "source": [
    "import numpy as np\n",
    "import pandas as pd\n",
    "import json"
   ]
  },
  {
   "cell_type": "code",
   "execution_count": 2,
   "metadata": {},
   "outputs": [],
   "source": [
    "def invertedIndex(fn,docNames,docs,n):\n",
    "    BSBI=[]\n",
    "    #opening the file and reading its data.\n",
    "    try:\n",
    "        with open(f'{fn}.txt') as file:\n",
    "            data=file.readlines()\n",
    "            docs.extend(data)\n",
    "    except:\n",
    "        print(f'There is a Problem opening the file {fn}.txt')\n",
    "    \n",
    "    #printing the contents of the given documents.\n",
    "    for i in range(len(docNames)):\n",
    "        print(f'{docNames[i]}:\\n{docs[i]}')\n",
    "\n",
    "    #tokenizing words from the given file.\n",
    "    docTerms=[]\n",
    "    for i in docs:\n",
    "        for j in i.lower().strip().split():\n",
    "            if j not in docTerms:\n",
    "                docTerms.append(j)\n",
    "    docTerms.sort()\n",
    "\n",
    "    #index construction.\n",
    "    dic={}\n",
    "    for i in range(len(docTerms)):\n",
    "        l=[]\n",
    "        for j in range(len(docs)):\n",
    "            if docTerms[i].lower() in docs[j].lower():\n",
    "                l.append(docNames[j])\n",
    "        dic[docTerms[i]]=l\n",
    "    \n",
    "    #saving the index\n",
    "    if len(docNames)==1:\n",
    "        with open('BSBI.txt', 'w') as file:\n",
    "            file.write(json.dumps(dic))\n",
    "    else:\n",
    "        with open('BSBI.txt','r') as file:\n",
    "            data=file.read()\n",
    "            BSBI.append(data)\n",
    "            BSBI.append(dic)\n",
    "            with open('BSBI.txt','w') as file:\n",
    "                file.write(json.dumps(BSBI[1]))\n",
    "    "
   ]
  },
  {
   "cell_type": "code",
   "execution_count": 3,
   "metadata": {},
   "outputs": [
    {
     "name": "stdout",
     "output_type": "stream",
     "text": [
      "Enter file name:(enter 0 to stop)DOC1\n",
      "DOC1:\n",
      "It is a long established fact that a reader will be distracted by the readable content of a page have suffered when looking at its layout\n",
      "Enter file name:(enter 0 to stop)DOC2\n",
      "DOC1:\n",
      "It is a long established fact that a reader will be distracted by the readable content of a page have suffered when looking at its layout\n",
      "DOC2:\n",
      "Many desktop publishing packages and web page editors have suffered alteration now use Lorem Ipsum as their default model text, and a search for lorem ipsum will uncover many web sites still in their infancy\n",
      "Enter file name:(enter 0 to stop)DOC3\n",
      "DOC1:\n",
      "It is a long established fact that a reader will be distracted by the readable content of a page have suffered when looking at its layout\n",
      "DOC2:\n",
      "Many desktop publishing packages and web page editors have suffered alteration now use Lorem Ipsum as their default model text, and a search for lorem ipsum will uncover many web sites still in their infancy\n",
      "DOC3:\n",
      "There are many variations of passages of Lorem Ipsum available but the majority have suffered alteration in some form by injected humour or randomised words which donot look even slightly believable\n",
      "Enter file name:(enter 0 to stop)DOC4\n",
      "DOC1:\n",
      "It is a long established fact that a reader will be distracted by the readable content of a page have suffered when looking at its layout\n",
      "DOC2:\n",
      "Many desktop publishing packages and web page editors have suffered alteration now use Lorem Ipsum as their default model text, and a search for lorem ipsum will uncover many web sites still in their infancy\n",
      "DOC3:\n",
      "There are many variations of passages of Lorem Ipsum available but the majority have suffered alteration in some form by injected humour or randomised words which donot look even slightly believable\n",
      "DOC4:\n",
      "But I must explain to you how all this mistaken idea of denouncing pleasure and praising pain was born and I will give you a complete account of the system and expound the actual teachings of the great explorer of the truth the master builder of human happiness\n",
      "Enter file name:(enter 0 to stop)0\n"
     ]
    }
   ],
   "source": [
    "fn=''\n",
    "docNames=[]\n",
    "docs=[]\n",
    "n=0\n",
    "while(True):\n",
    "    fn=input('Enter file name:(enter 0 to stop)')\n",
    "    if fn=='0': break\n",
    "    docNames.append(fn)\n",
    "    invertedIndex(fn,docNames,docs,n)\n",
    "    n=n+1"
   ]
  },
  {
   "cell_type": "code",
   "execution_count": null,
   "metadata": {
    "collapsed": true
   },
   "outputs": [],
   "source": []
  },
  {
   "cell_type": "code",
   "execution_count": null,
   "metadata": {},
   "outputs": [],
   "source": []
  }
 ],
 "metadata": {
  "kernelspec": {
   "display_name": "Python 3",
   "language": "python",
   "name": "python3"
  },
  "language_info": {
   "codemirror_mode": {
    "name": "ipython",
    "version": 3
   },
   "file_extension": ".py",
   "mimetype": "text/x-python",
   "name": "python",
   "nbconvert_exporter": "python",
   "pygments_lexer": "ipython3",
   "version": "3.8.5"
  }
 },
 "nbformat": 4,
 "nbformat_minor": 5
}
