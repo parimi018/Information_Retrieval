{
 "cells": [
  {
   "cell_type": "code",
   "execution_count": 1,
   "metadata": {},
   "outputs": [],
   "source": [
    "import numpy as np\n",
    "import pandas as pd\n",
    "import json"
   ]
  },
  {
   "cell_type": "code",
   "execution_count": 4,
   "metadata": {},
   "outputs": [],
   "source": [
    "def invertedIndex(fn,docNames,docs):\n",
    "    BSBI=[]\n",
    "    #opening the file and reading its data.\n",
    "    try:\n",
    "        with open(f'{fn}.txt') as file:\n",
    "            data=file.readlines()\n",
    "            docs.extend(data)\n",
    "    except:\n",
    "        print(f'There is a Problem opening the file {fn}.txt')\n",
    "        return\n",
    "    #tokenizing words from the given file.\n",
    "    docTerms=[]\n",
    "    for i in docs:\n",
    "        for j in i.lower().strip().split():\n",
    "            if j not in docTerms:\n",
    "                docTerms.append(j)\n",
    "    docTerms.sort()\n",
    "\n",
    "    #index construction.\n",
    "    dic={}\n",
    "    for i in range(len(docTerms)):\n",
    "        l=[]\n",
    "        for j in range(len(docs)):\n",
    "            if docTerms[i].lower() in docs[j].lower():\n",
    "                l.append(docNames[j])\n",
    "        dic[docTerms[i]]=l\n",
    "    \n",
    "    #saving the index\n",
    "    if len(docNames)==1:\n",
    "        with open('BSBI.txt', 'w') as file:\n",
    "            file.write(json.dumps(dic))\n",
    "    else:\n",
    "        with open('BSBI.txt','r') as file:\n",
    "            data=file.read()\n",
    "            BSBI.append(data)\n",
    "            BSBI.append(dic)\n",
    "            with open('BSBI.txt','w') as file:\n",
    "                file.write(json.dumps(BSBI[1]))\n",
    "            print('\\nTerms\\t    Docs')\n",
    "            print('----------------')\n",
    "            for i in BSBI[1]:\n",
    "                print(i,'---------',BSBI[1][i])"
   ]
  },
  {
   "cell_type": "code",
   "execution_count": 5,
   "metadata": {},
   "outputs": [
    {
     "name": "stdout",
     "output_type": "stream",
     "text": [
      "Enter file name:(enter 0 to stop)DOC1\n",
      "Enter file name:(enter 0 to stop)DOC2\n",
      "\n",
      "Terms\t    Docs\n",
      "----------------\n",
      "a --------- ['DOC1', 'DOC2']\n",
      "alteration --------- ['DOC2']\n",
      "and --------- ['DOC2']\n",
      "as --------- ['DOC2']\n",
      "at --------- ['DOC1', 'DOC2']\n",
      "be --------- ['DOC1']\n",
      "by --------- ['DOC1']\n",
      "content --------- ['DOC1']\n",
      "default --------- ['DOC2']\n",
      "desktop --------- ['DOC2']\n",
      "distracted --------- ['DOC1']\n",
      "editors --------- ['DOC2']\n",
      "established --------- ['DOC1']\n",
      "fact --------- ['DOC1']\n",
      "for --------- ['DOC2']\n",
      "have --------- ['DOC1', 'DOC2']\n",
      "in --------- ['DOC1', 'DOC2']\n",
      "infancy --------- ['DOC2']\n",
      "ipsum --------- ['DOC2']\n",
      "is --------- ['DOC1', 'DOC2']\n",
      "it --------- ['DOC1', 'DOC2']\n",
      "its --------- ['DOC1']\n",
      "layout --------- ['DOC1']\n",
      "long --------- ['DOC1']\n",
      "looking --------- ['DOC1']\n",
      "lorem --------- ['DOC2']\n",
      "many --------- ['DOC2']\n",
      "model --------- ['DOC2']\n",
      "now --------- ['DOC2']\n",
      "of --------- ['DOC1']\n",
      "packages --------- ['DOC2']\n",
      "page --------- ['DOC1', 'DOC2']\n",
      "publishing --------- ['DOC2']\n",
      "readable --------- ['DOC1']\n",
      "reader --------- ['DOC1']\n",
      "search --------- ['DOC2']\n",
      "sites --------- ['DOC2']\n",
      "still --------- ['DOC2']\n",
      "suffered --------- ['DOC1', 'DOC2']\n",
      "text, --------- ['DOC2']\n",
      "that --------- ['DOC1']\n",
      "the --------- ['DOC1', 'DOC2']\n",
      "their --------- ['DOC2']\n",
      "uncover --------- ['DOC2']\n",
      "use --------- ['DOC2']\n",
      "web --------- ['DOC2']\n",
      "when --------- ['DOC1']\n",
      "will --------- ['DOC1', 'DOC2']\n",
      "Enter file name:(enter 0 to stop)DOC9\n",
      "There is a Problem opening the file DOC9.txt\n",
      "Enter file name:(enter 0 to stop)0\n"
     ]
    }
   ],
   "source": [
    "fn=''\n",
    "docNames=[]\n",
    "docs=[]\n",
    "while(True):\n",
    "    fn=input('Enter file name:(enter 0 to stop)')\n",
    "    if fn=='0': break\n",
    "    docNames.append(fn)\n",
    "    invertedIndex(fn,docNames,docs)"
   ]
  },
  {
   "cell_type": "code",
   "execution_count": null,
   "metadata": {
    "collapsed": true
   },
   "outputs": [],
   "source": []
  },
  {
   "cell_type": "code",
   "execution_count": null,
   "metadata": {},
   "outputs": [],
   "source": []
  }
 ],
 "metadata": {
  "kernelspec": {
   "display_name": "Python 3",
   "language": "python",
   "name": "python3"
  },
  "language_info": {
   "codemirror_mode": {
    "name": "ipython",
    "version": 3
   },
   "file_extension": ".py",
   "mimetype": "text/x-python",
   "name": "python",
   "nbconvert_exporter": "python",
   "pygments_lexer": "ipython3",
   "version": "3.8.5"
  }
 },
 "nbformat": 4,
 "nbformat_minor": 5
}
