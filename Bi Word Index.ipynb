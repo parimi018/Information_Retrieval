{
 "cells": [
  {
   "cell_type": "code",
   "execution_count": 1,
   "id": "93e4b65d",
   "metadata": {},
   "outputs": [],
   "source": [
    "import numpy as np\n",
    "import pandas as pd"
   ]
  },
  {
   "cell_type": "code",
   "execution_count": 10,
   "id": "495b2368",
   "metadata": {},
   "outputs": [
    {
     "name": "stdout",
     "output_type": "stream",
     "text": [
      "DOC1:\n",
      "It is a long established fact that a reader will be distracted by the readable content of a page have suffered when looking at its layout\n",
      "DOC2:\n",
      "Many desktop publishing packages and web page editors have suffered alteration now use Lorem Ipsum as their default model text, and a search for lorem ipsum will uncover many web sites still in their infancy\n",
      "DOC3:\n",
      "There are many variations of passages of Lorem Ipsum available but the majority have suffered alteration in some form by injected humour or randomised words which donot look even slightly believable\n",
      "DOC4:\n",
      "But I must explain to you how all this mistaken idea of denouncing pleasure and praising pain was born and I will give you a complete account of the system and expound the actual teachings of the great explorer of the truth the master builder of human happiness\n",
      "{'it is': ['DOC1', 'DOC2', 'DOC3', 'DOC4'], 'is a': ['DOC1', 'DOC2', 'DOC3', 'DOC4'], '': ['DOC3'], 'reader will': ['DOC1', 'DOC2', 'DOC4'], 'by the': ['DOC1', 'DOC2', 'DOC3', 'DOC4'], 'content of': ['DOC1', 'DOC3', 'DOC4'], 'looking at': ['DOC1', 'DOC2', 'DOC3', 'DOC4'], 'packages and': ['DOC2', 'DOC3', 'DOC4'], 'ipsum as': ['DOC2', 'DOC3', 'DOC4'], 'still in': ['DOC1', 'DOC2', 'DOC3', 'DOC4'], 'humour or': ['DOC2', 'DOC3', 'DOC4'], 'believable i': ['DOC1', 'DOC2', 'DOC3', 'DOC4'], 'i must': ['DOC4'], 'must explain': ['DOC4'], 'explain to': ['DOC2', 'DOC4'], 'to you': ['DOC1', 'DOC4'], 'you how': ['DOC4'], 'how all': ['DOC4'], 'all this': ['DOC4'], 'this mistaken': ['DOC4'], 'mistaken idea': ['DOC4'], 'idea denouncing': ['DOC4'], 'denouncing pleasure': ['DOC4'], 'pleasure praising': ['DOC4'], 'praising pain': ['DOC4'], 'pain was': ['DOC4'], 'was born': ['DOC4'], 'born give': ['DOC4'], 'give complete': ['DOC4'], 'complete account': ['DOC4'], 'account system': ['DOC4'], 'system expound': ['DOC4'], 'expound actual': ['DOC4'], 'actual teachings': ['DOC4'], 'teachings great': ['DOC4'], 'great explorer': ['DOC4'], 'explorer truth': ['DOC4'], 'truth master': ['DOC4'], 'master builder': ['DOC4'], 'builder human': ['DOC4'], 'human happiness': ['DOC4']}\n"
     ]
    }
   ],
   "source": [
    "docNames=['DOC1','DOC2','DOC3','DOC4']\n",
    "docs=[]\n",
    "for i in docNames:\n",
    "    try:\n",
    "        with open(f'{i}.txt') as file:\n",
    "            data=file.readlines()\n",
    "            docs.extend(data)\n",
    "    except:\n",
    "        print(f'There is a Problem opening the file {i}.txt')\n",
    "\n",
    "for i in range(len(docNames)):\n",
    "    print(f'{docNames[i]}:\\n{docs[i]}')\n",
    "\n",
    "docTerms=[]\n",
    "for i in docs:\n",
    "    for j in i.lower().strip().split():\n",
    "        if j not in docTerms:\n",
    "            docTerms.append(j)\n",
    "bi_word={}\n",
    "for i in range(1,len(docTerms)):\n",
    "    l=[]\n",
    "    for j in range(len(docs)):\n",
    "        s=\"\"\n",
    "        if docTerms[i-1].lower() and docTerms[i].lower() in docs[j]:\n",
    "            l.append(docNames[j])\n",
    "            s=s+docTerms[i-1]+' '+docTerms[i]\n",
    "    bi_word[s]=l\n",
    "print(bi_word) "
   ]
  },
  {
   "cell_type": "code",
   "execution_count": null,
   "id": "62cd70e3",
   "metadata": {},
   "outputs": [],
   "source": []
  }
 ],
 "metadata": {
  "kernelspec": {
   "display_name": "Python 3 (ipykernel)",
   "language": "python",
   "name": "python3"
  },
  "language_info": {
   "codemirror_mode": {
    "name": "ipython",
    "version": 3
   },
   "file_extension": ".py",
   "mimetype": "text/x-python",
   "name": "python",
   "nbconvert_exporter": "python",
   "pygments_lexer": "ipython3",
   "version": "3.11.3"
  }
 },
 "nbformat": 4,
 "nbformat_minor": 5
}
