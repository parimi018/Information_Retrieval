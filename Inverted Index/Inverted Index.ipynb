{
 "cells": [
  {
   "cell_type": "code",
   "execution_count": 2,
   "id": "bac98230",
   "metadata": {},
   "outputs": [],
   "source": [
    "import numpy as np\n",
    "import pandas as pd\n",
    "def check_parenthesis(s):\n",
    "    l=[]\n",
    "    for i in s:\n",
    "        if i=='(':\n",
    "            l.append(i)\n",
    "        elif i==')' and len(l)>0:\n",
    "            l.pop()\n",
    "        else:\n",
    "            continue\n",
    "    if len(l)==0:\n",
    "        return True\n",
    "    else:\n",
    "        return False"
   ]
  },
  {
   "cell_type": "code",
   "execution_count": 3,
   "id": "bb7559e7",
   "metadata": {},
   "outputs": [],
   "source": [
    "def Precedence(a):\n",
    "    if a.lower()=='and': return 1\n",
    "    elif a.lower()=='or': return 2\n",
    "    elif a.lower()=='not': return 3\n",
    "    else:return 0"
   ]
  },
  {
   "cell_type": "code",
   "execution_count": 4,
   "id": "d8923563",
   "metadata": {},
   "outputs": [],
   "source": [
    "def Operator(a):\n",
    "    if a.lower() in ['(',')','and','or','not']: return True\n",
    "    else: return False"
   ]
  },
  {
   "cell_type": "code",
   "execution_count": 17,
   "id": "17081ad9",
   "metadata": {},
   "outputs": [],
   "source": [
    "def infix_to_postfix(s):\n",
    "    operators=[]\n",
    "    operands=[]\n",
    "    for i in s:\n",
    "        if i=='(': operators.append(i)\n",
    "        elif i==')':\n",
    "            while(len(operators)!=0 and operators[-1]!='('):\n",
    "                operands.append(operators.pop())\n",
    "            operators.pop()\n",
    "        elif not Operator(i):\n",
    "            operands.append(i)    \n",
    "        else:\n",
    "            while(len(operators)!=0 and Precedence(i)<=Precedence(operators[-1])):\n",
    "                operands.append(operators.pop())\n",
    "            operators.append(i)\n",
    "    while(len(operators)!=0):\n",
    "           operands.append(operators.pop())\n",
    "    return operands"
   ]
  },
  {
   "cell_type": "code",
   "execution_count": 37,
   "id": "dacb11c0",
   "metadata": {},
   "outputs": [],
   "source": [
    "def queryPrint(r):\n",
    "    if len(r)!=0:\n",
    "        print('The Documents related to the given query are:')\n",
    "        for i in r:\n",
    "            print(i)\n",
    "    else:\n",
    "        print('No relavent documents found')"
   ]
  },
  {
   "cell_type": "code",
   "execution_count": 43,
   "id": "001b0bef",
   "metadata": {},
   "outputs": [],
   "source": [
    "def queryEval(s,d,dn):\n",
    "    if(check_parenthesis(s)):\n",
    "        s=infix_to_postfix(s)\n",
    "        operands=[]\n",
    "        for i in s:\n",
    "            if not Operator(i):\n",
    "                operands.append(i)\n",
    "            elif i.lower()=='and':\n",
    "                b=operands.pop()\n",
    "                res=AND_OF(operands.pop(),b,d)\n",
    "                operands.append(res)\n",
    "            elif i.lower()=='or':\n",
    "                b=operands.pop()\n",
    "                res=OR_OF(operands.pop(),b,d)\n",
    "                operands.append(res)\n",
    "            else:\n",
    "                res=NOT_OF(operands.pop(),d,dn)\n",
    "                operands.append(res)\n",
    "        res=operands.pop()\n",
    "        print(res)\n",
    "        queryPrint(res)\n",
    "    else:\n",
    "        print('Invalid no of Parenthesis in the given query.')\n",
    "        return"
   ]
  },
  {
   "cell_type": "code",
   "execution_count": 44,
   "id": "283f36bd",
   "metadata": {},
   "outputs": [],
   "source": [
    "def AND_OF(a,b,d):\n",
    "    if type(a) is str:\n",
    "        l1=d[a]\n",
    "    else:\n",
    "        l1=a\n",
    "    if type(b) is str:\n",
    "        l2=d[b]\n",
    "    else:\n",
    "        l2=b\n",
    "    r=[]\n",
    "    for i in l1:\n",
    "        if i in l2:\n",
    "            r.append(i)\n",
    "    return r"
   ]
  },
  {
   "cell_type": "code",
   "execution_count": 45,
   "id": "6519a4d8",
   "metadata": {},
   "outputs": [],
   "source": [
    "def OR_OF(a,b,d):\n",
    "    if type(a) is str:\n",
    "        l1=d[a]\n",
    "    else:\n",
    "        l1=a\n",
    "    if type(b) is str:\n",
    "        l2=d[b]\n",
    "    else:\n",
    "        l2=b\n",
    "    for i in l1:\n",
    "        if i not in l2:\n",
    "            l2.append(i)\n",
    "    return l2\n"
   ]
  },
  {
   "cell_type": "code",
   "execution_count": 46,
   "id": "2327d8d7",
   "metadata": {},
   "outputs": [],
   "source": [
    "def NOT_OF(a,d,dn):\n",
    "    if type(a) is str:\n",
    "        l=d[a]\n",
    "    else:\n",
    "        l=a\n",
    "    r=[]\n",
    "    for i in dn:\n",
    "        if i not in l:\n",
    "            r.append(i)\n",
    "    return r"
   ]
  },
  {
   "cell_type": "code",
   "execution_count": 48,
   "id": "243fa6e5",
   "metadata": {},
   "outputs": [
    {
     "name": "stdout",
     "output_type": "stream",
     "text": [
      "DOC1:\n",
      "It is a long established fact that a reader will be distracted by the readable content of a page have suffered when looking at its layout\n",
      "DOC2:\n",
      "Many desktop publishing packages and web page editors have suffered alteration now use Lorem Ipsum as their default model text, and a search for lorem ipsum will uncover many web sites still in their infancy\n",
      "DOC3:\n",
      "There are many variations of passages of Lorem Ipsum available but the majority have suffered alteration in some form by injected humour or randomised words which donot look even slightly believable\n",
      "DOC4:\n",
      "But I must explain to you how all this mistaken idea of denouncing pleasure and praising pain was born and I will give you a complete account of the system and expound the actual teachings of the great explorer of the truth the master builder of human happiness\n",
      "\n",
      "Enter your query:systems and powered and ai\n"
     ]
    },
    {
     "ename": "KeyError",
     "evalue": "'systems'",
     "output_type": "error",
     "traceback": [
      "\u001b[1;31m---------------------------------------------------------------------------\u001b[0m",
      "\u001b[1;31mKeyError\u001b[0m                                  Traceback (most recent call last)",
      "Cell \u001b[1;32mIn[48], line 36\u001b[0m\n\u001b[0;32m     30\u001b[0m \u001b[38;5;66;03m#print('\\nTerms\\t    Docs')\u001b[39;00m\n\u001b[0;32m     31\u001b[0m \u001b[38;5;66;03m#print('----------------')\u001b[39;00m\n\u001b[0;32m     32\u001b[0m \u001b[38;5;66;03m#for i in Inv_ind:\u001b[39;00m\n\u001b[0;32m     33\u001b[0m \u001b[38;5;66;03m#    print(i,'-----',Inv_ind[i])\u001b[39;00m\n\u001b[0;32m     35\u001b[0m s\u001b[38;5;241m=\u001b[39m\u001b[38;5;28minput\u001b[39m(\u001b[38;5;124m'\u001b[39m\u001b[38;5;130;01m\\n\u001b[39;00m\u001b[38;5;124mEnter your query:\u001b[39m\u001b[38;5;124m'\u001b[39m)\u001b[38;5;241m.\u001b[39msplit()\n\u001b[1;32m---> 36\u001b[0m \u001b[43mqueryEval\u001b[49m\u001b[43m(\u001b[49m\u001b[43ms\u001b[49m\u001b[43m,\u001b[49m\u001b[43mdic\u001b[49m\u001b[43m,\u001b[49m\u001b[43mdocNames\u001b[49m\u001b[43m)\u001b[49m\n\u001b[0;32m     37\u001b[0m \u001b[38;5;66;03m#look and even and slightly\u001b[39;00m\n",
      "Cell \u001b[1;32mIn[43], line 10\u001b[0m, in \u001b[0;36mqueryEval\u001b[1;34m(s, d, dn)\u001b[0m\n\u001b[0;32m      8\u001b[0m \u001b[38;5;28;01melif\u001b[39;00m i\u001b[38;5;241m.\u001b[39mlower()\u001b[38;5;241m==\u001b[39m\u001b[38;5;124m'\u001b[39m\u001b[38;5;124mand\u001b[39m\u001b[38;5;124m'\u001b[39m:\n\u001b[0;32m      9\u001b[0m     b\u001b[38;5;241m=\u001b[39moperands\u001b[38;5;241m.\u001b[39mpop()\n\u001b[1;32m---> 10\u001b[0m     res\u001b[38;5;241m=\u001b[39m\u001b[43mAND_OF\u001b[49m\u001b[43m(\u001b[49m\u001b[43moperands\u001b[49m\u001b[38;5;241;43m.\u001b[39;49m\u001b[43mpop\u001b[49m\u001b[43m(\u001b[49m\u001b[43m)\u001b[49m\u001b[43m,\u001b[49m\u001b[43mb\u001b[49m\u001b[43m,\u001b[49m\u001b[43md\u001b[49m\u001b[43m)\u001b[49m\n\u001b[0;32m     11\u001b[0m     operands\u001b[38;5;241m.\u001b[39mappend(res)\n\u001b[0;32m     12\u001b[0m \u001b[38;5;28;01melif\u001b[39;00m i\u001b[38;5;241m.\u001b[39mlower()\u001b[38;5;241m==\u001b[39m\u001b[38;5;124m'\u001b[39m\u001b[38;5;124mor\u001b[39m\u001b[38;5;124m'\u001b[39m:\n",
      "Cell \u001b[1;32mIn[44], line 3\u001b[0m, in \u001b[0;36mAND_OF\u001b[1;34m(a, b, d)\u001b[0m\n\u001b[0;32m      1\u001b[0m \u001b[38;5;28;01mdef\u001b[39;00m \u001b[38;5;21mAND_OF\u001b[39m(a,b,d):\n\u001b[0;32m      2\u001b[0m     \u001b[38;5;28;01mif\u001b[39;00m \u001b[38;5;28mtype\u001b[39m(a) \u001b[38;5;129;01mis\u001b[39;00m \u001b[38;5;28mstr\u001b[39m:\n\u001b[1;32m----> 3\u001b[0m         l1\u001b[38;5;241m=\u001b[39m\u001b[43md\u001b[49m\u001b[43m[\u001b[49m\u001b[43ma\u001b[49m\u001b[43m]\u001b[49m\n\u001b[0;32m      4\u001b[0m     \u001b[38;5;28;01melse\u001b[39;00m:\n\u001b[0;32m      5\u001b[0m         l1\u001b[38;5;241m=\u001b[39ma\n",
      "\u001b[1;31mKeyError\u001b[0m: 'systems'"
     ]
    }
   ],
   "source": [
    "#docNames=['Doc1','Doc2','Doc3','DOC4']\n",
    "docNames=['DOC1','DOC2','DOC3','DOC4']\n",
    "docs=[]\n",
    "for i in docNames:\n",
    "    try:\n",
    "        with open(f'{i}.txt') as file:\n",
    "            data=file.readlines()\n",
    "            docs.extend(data)\n",
    "    except:\n",
    "        print(f'There is a Problem opening the file {i}.txt')\n",
    "\n",
    "for i in range(len(docNames)):\n",
    "    print(f'{docNames[i]}:\\n{docs[i]}')\n",
    "\n",
    "docTerms=[]\n",
    "for i in docs:\n",
    "    for j in i.lower().strip().split():\n",
    "        if j not in docTerms:\n",
    "            docTerms.append(j)\n",
    "docTerms.sort()\n",
    "\n",
    "dic={}\n",
    "for i in range(len(docTerms)):\n",
    "    l=[]\n",
    "    for j in range(len(docs)):\n",
    "        if docTerms[i].lower() in docs[j].lower():\n",
    "            l.append(docNames[j])\n",
    "    dic[docTerms[i]]=l\n",
    "    \n",
    "#print('\\nTerms\\t    Docs')\n",
    "#print('----------------')\n",
    "#for i in Inv_ind:\n",
    "#    print(i,'-----',Inv_ind[i])\n",
    "\n",
    "s=input('\\nEnter your query:').split()\n",
    "queryEval(s,dic,docNames)\n",
    "#look and even and slightly"
   ]
  },
  {
   "cell_type": "code",
   "execution_count": null,
   "id": "7a16f6f6",
   "metadata": {},
   "outputs": [],
   "source": []
  }
 ],
 "metadata": {
  "kernelspec": {
   "display_name": "Python 3 (ipykernel)",
   "language": "python",
   "name": "python3"
  },
  "language_info": {
   "codemirror_mode": {
    "name": "ipython",
    "version": 3
   },
   "file_extension": ".py",
   "mimetype": "text/x-python",
   "name": "python",
   "nbconvert_exporter": "python",
   "pygments_lexer": "ipython3",
   "version": "3.11.3"
  }
 },
 "nbformat": 4,
 "nbformat_minor": 5
}
